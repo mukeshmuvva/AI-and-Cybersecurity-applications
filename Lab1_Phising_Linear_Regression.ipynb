{
  "nbformat": 4,
  "nbformat_minor": 0,
  "metadata": {
    "colab": {
      "name": "Lab1_Phising_Linear_Regression.ipynb",
      "provenance": [],
      "collapsed_sections": []
    },
    "kernelspec": {
      "name": "python3",
      "display_name": "Python 3"
    },
    "language_info": {
      "name": "python"
    }
  },
  "cells": [
    {
      "cell_type": "code",
      "metadata": {
        "id": "-csVIRk_qEVX"
      },
      "source": [
        "import pandas as pd\n",
        "import numpy as np\n",
        "from sklearn.model_selection import train_test_split\n",
        "from sklearn.linear_model import LinearRegression\n",
        "from sklearn.metrics import accuracy_score\n",
        "from sklearn.preprocessing import StandardScaler\n",
        "import warnings \n",
        "from sklearn.metrics import mean_squared_error\n",
        "from sklearn.model_selection import GridSearchCV\n",
        "warnings.simplefilter('ignore')"
      ],
      "execution_count": null,
      "outputs": []
    },
    {
      "cell_type": "code",
      "metadata": {
        "id": "niEmLtZcrA0H"
      },
      "source": [
        "phishing_dataset = np.genfromtxt('phishing_dataset.csv', delimiter=',', dtype=np.int32)\n",
        "samples = phishing_dataset[:,:-1]\n",
        "targets = phishing_dataset[:, -1]"
      ],
      "execution_count": null,
      "outputs": []
    },
    {
      "cell_type": "code",
      "metadata": {
        "id": "dVwJt8BzueMy"
      },
      "source": [
        "X_train,X_test,Y_train,Y_test=train_test_split(samples,targets,test_size=0.2,random_state=10)"
      ],
      "execution_count": null,
      "outputs": []
    },
    {
      "cell_type": "code",
      "metadata": {
        "id": "ArMDb7pb4JCE"
      },
      "source": [
        "sc=StandardScaler()\n",
        "X_train=sc.fit_transform(X_train)"
      ],
      "execution_count": null,
      "outputs": []
    },
    {
      "cell_type": "code",
      "metadata": {
        "colab": {
          "base_uri": "https://localhost:8080/"
        },
        "id": "yRyotGbk70I_",
        "outputId": "34cdd508-42ba-4691-cb14-01bf03411a75"
      },
      "source": [
        "linear_regression = LinearRegression()\n",
        "grid = {\"fit_intercept\": [True, False],\n",
        "              \"normalize\": [True,False], \n",
        "             }\n",
        "linear_regression_cv=GridSearchCV(linear_regression,grid,cv=10)\n",
        "linear_regression_cv.fit(X_train,Y_train)\n",
        "\n",
        "print(\"tuned hpyerparameters :(best parameters) \",linear_regression_cv.best_params_)\n",
        "print(\"accuracy :\",linear_regression_cv.best_score_)"
      ],
      "execution_count": null,
      "outputs": [
        {
          "output_type": "stream",
          "name": "stdout",
          "text": [
            "tuned hpyerparameters :(best parameters)  {'fit_intercept': True, 'normalize': True}\n",
            "accuracy : 0.7022284621392151\n"
          ]
        }
      ]
    },
    {
      "cell_type": "code",
      "metadata": {
        "id": "FwOw8KsS8jtT"
      },
      "source": [
        "linear_regression=LinearRegression(fit_intercept=True,normalize=True)"
      ],
      "execution_count": null,
      "outputs": []
    },
    {
      "cell_type": "code",
      "metadata": {
        "colab": {
          "base_uri": "https://localhost:8080/"
        },
        "id": "HnRbNA3f0RbT",
        "outputId": "1a713e90-0f5c-4c09-d074-679805f2e195"
      },
      "source": [
        "linear_regression.fit(X_train,Y_train)"
      ],
      "execution_count": null,
      "outputs": [
        {
          "output_type": "execute_result",
          "data": {
            "text/plain": [
              "LinearRegression(copy_X=True, fit_intercept=True, n_jobs=None, normalize=True)"
            ]
          },
          "metadata": {},
          "execution_count": 23
        }
      ]
    },
    {
      "cell_type": "code",
      "metadata": {
        "id": "hR5Gn5dN2t54"
      },
      "source": [
        "predictions = linear_regression.predict(X_test)\n"
      ],
      "execution_count": null,
      "outputs": []
    },
    {
      "cell_type": "code",
      "metadata": {
        "id": "sNZUzK4J2zXo"
      },
      "source": [
        "errors = mean_squared_error(Y_test, predictions, squared=False)"
      ],
      "execution_count": null,
      "outputs": []
    },
    {
      "cell_type": "code",
      "metadata": {
        "colab": {
          "base_uri": "https://localhost:8080/"
        },
        "id": "FLP6PwF7JEGQ",
        "outputId": "1775221f-a476-4562-a212-20262fe99cfa"
      },
      "source": [
        "errors"
      ],
      "execution_count": null,
      "outputs": [
        {
          "output_type": "execute_result",
          "data": {
            "text/plain": [
              "0.5767717534322359"
            ]
          },
          "metadata": {},
          "execution_count": 37
        }
      ]
    }
  ]
}