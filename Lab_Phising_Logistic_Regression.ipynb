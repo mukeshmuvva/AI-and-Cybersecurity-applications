{
  "nbformat": 4,
  "nbformat_minor": 0,
  "metadata": {
    "colab": {
      "name": "Lab1_Phising_Logistic_Regression.ipynb",
      "provenance": [],
      "collapsed_sections": []
    },
    "kernelspec": {
      "name": "python3",
      "display_name": "Python 3"
    },
    "language_info": {
      "name": "python"
    }
  },
  "cells": [
    {
      "cell_type": "code",
      "metadata": {
        "id": "-csVIRk_qEVX"
      },
      "source": [
        "import pandas as pd\n",
        "import numpy as np\n",
        "from sklearn.model_selection import train_test_split\n",
        "from sklearn.linear_model import LogisticRegression\n",
        "from sklearn.metrics import accuracy_score\n",
        "from sklearn.preprocessing import MinMaxScaler\n",
        "import warnings \n",
        "from sklearn.model_selection import GridSearchCV\n",
        "warnings.simplefilter('ignore')"
      ],
      "execution_count": 155,
      "outputs": []
    },
    {
      "cell_type": "code",
      "metadata": {
        "id": "niEmLtZcrA0H"
      },
      "source": [
        "phishing_dataset = np.genfromtxt('phishing_dataset.csv', delimiter=',', dtype=np.int32)\n",
        "samples = phishing_dataset[:,:-1]\n",
        "targets = phishing_dataset[:, -1]"
      ],
      "execution_count": 61,
      "outputs": []
    },
    {
      "cell_type": "code",
      "metadata": {
        "id": "dVwJt8BzueMy"
      },
      "source": [
        "X_train,X_test,Y_train,Y_test=train_test_split(samples,targets,test_size=0.2,random_state=10)"
      ],
      "execution_count": 146,
      "outputs": []
    },
    {
      "cell_type": "code",
      "metadata": {
        "id": "ArMDb7pb4JCE"
      },
      "source": [
        "sc=StandardScaler()\n",
        "X_train=sc.fit_transform(X_train)"
      ],
      "execution_count": 147,
      "outputs": []
    },
    {
      "cell_type": "code",
      "metadata": {
        "colab": {
          "base_uri": "https://localhost:8080/"
        },
        "id": "yRyotGbk70I_",
        "outputId": "9fa60344-3fbb-4e96-abfb-f348f39c4df7"
      },
      "source": [
        "grid={\"C\":np.logspace(-3,3,7), \"penalty\":[\"l1\",\"l2\"]}\n",
        "log_classifier=LogisticRegression()\n",
        "log_classifier_cv=GridSearchCV(log_classifier,grid,cv=10)\n",
        "log_classifier_cv.fit(X_train,Y_train)\n",
        "\n",
        "print(\"tuned hpyerparameters :(best parameters) \",log_classifier_cv.best_params_)\n",
        "print(\"accuracy :\",log_classifier_cv.best_score_)"
      ],
      "execution_count": 158,
      "outputs": [
        {
          "output_type": "stream",
          "name": "stdout",
          "text": [
            "tuned hpyerparameters :(best parameters)  {'C': 0.1, 'penalty': 'l2'}\n",
            "accuracy : 0.9283135209755349\n"
          ]
        }
      ]
    },
    {
      "cell_type": "code",
      "metadata": {
        "id": "FwOw8KsS8jtT"
      },
      "source": [
        "log_classifier=LogisticRegression(C=0.1,penalty='l2')"
      ],
      "execution_count": 160,
      "outputs": []
    },
    {
      "cell_type": "code",
      "metadata": {
        "colab": {
          "base_uri": "https://localhost:8080/"
        },
        "id": "HnRbNA3f0RbT",
        "outputId": "de629043-005d-48d0-a26d-115548574baf"
      },
      "source": [
        "log_classifier.fit(X_train,Y_train)"
      ],
      "execution_count": 161,
      "outputs": [
        {
          "output_type": "execute_result",
          "data": {
            "text/plain": [
              "LogisticRegression(C=0.1, class_weight=None, dual=False, fit_intercept=True,\n",
              "                   intercept_scaling=1, l1_ratio=None, max_iter=100,\n",
              "                   multi_class='auto', n_jobs=None, penalty='l2',\n",
              "                   random_state=None, solver='lbfgs', tol=0.0001, verbose=0,\n",
              "                   warm_start=False)"
            ]
          },
          "metadata": {},
          "execution_count": 161
        }
      ]
    },
    {
      "cell_type": "code",
      "metadata": {
        "id": "hR5Gn5dN2t54"
      },
      "source": [
        "predictions = log_classifier.predict(X_test)\n"
      ],
      "execution_count": 162,
      "outputs": []
    },
    {
      "cell_type": "code",
      "metadata": {
        "colab": {
          "base_uri": "https://localhost:8080/"
        },
        "id": "sNZUzK4J2zXo",
        "outputId": "2d54bf9f-0ea9-410d-b7f2-0a758db12cc8"
      },
      "source": [
        "accuracy = 100.0 * accuracy_score(Y_test, predictions)\n",
        "print (\"Logistic Regression accuracy: \" + str(accuracy))"
      ],
      "execution_count": 163,
      "outputs": [
        {
          "output_type": "stream",
          "name": "stdout",
          "text": [
            "Logistic Regression accuracy: 92.53731343283582\n"
          ]
        }
      ]
    }
  ]
}