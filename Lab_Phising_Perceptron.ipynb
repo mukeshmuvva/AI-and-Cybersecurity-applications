{
  "nbformat": 4,
  "nbformat_minor": 0,
  "metadata": {
    "kernelspec": {
      "display_name": "Py35",
      "language": "python",
      "name": "py35"
    },
    "language_info": {
      "codemirror_mode": {
        "name": "ipython",
        "version": 3
      },
      "file_extension": ".py",
      "mimetype": "text/x-python",
      "name": "python",
      "nbconvert_exporter": "python",
      "pygments_lexer": "ipython3",
      "version": "3.5.4"
    },
    "colab": {
      "name": "Lab_Phising_Perceptron.ipynb",
      "provenance": []
    }
  },
  "cells": [
    {
      "cell_type": "code",
      "metadata": {
        "id": "VX7EB3wv3a28"
      },
      "source": [
        "%matplotlib inline\n",
        "import warnings\n",
        "warnings.simplefilter('ignore')\n",
        "import pandas as pd\n",
        "import numpy as np\n",
        "import matplotlib.pyplot as plt  \n",
        "from sklearn.model_selection import GridSearchCV\n",
        "from sklearn.svm import SVC\n",
        "from sklearn.model_selection import train_test_split\n",
        "from sklearn.linear_model import Perceptron"
      ],
      "execution_count": 17,
      "outputs": []
    },
    {
      "cell_type": "code",
      "metadata": {
        "id": "pc-S30Bm3a2-"
      },
      "source": [
        "#Load the data set and segragate into features and targets\n",
        "phishing_dataset = np.genfromtxt('phishing_dataset.csv', delimiter=',', dtype=np.int32)\n",
        "samples = phishing_dataset[:,:-1]\n",
        "targets = phishing_dataset[:, -1]\n",
        "\n",
        "from sklearn.model_selection import train_test_split\n",
        "\n",
        "X_train, X_test, Y_train, Y_test = train_test_split(\n",
        "         samples, targets, test_size=0.2, random_state=0)\n",
        "\n"
      ],
      "execution_count": 3,
      "outputs": []
    },
    {
      "cell_type": "code",
      "metadata": {
        "colab": {
          "base_uri": "https://localhost:8080/"
        },
        "id": "DkCjhXUWgyD3",
        "outputId": "132402be-19a9-4f22-f3cb-d5d912b5d45f"
      },
      "source": [
        "model = Perceptron()\n",
        "\n",
        "grid={'eta0':[0.0001, 0.001, 0.01, 0.1, 1.0]}\n",
        "\n",
        "search = GridSearchCV(model, grid, scoring='accuracy', cv=2, n_jobs=-1)\n",
        "\n",
        "results = search.fit(X_train, Y_train)\n",
        "\n",
        "print('Mean Accuracy: %.3f' % results.best_score_)\n",
        "print('Config: %s' % results.best_params_)"
      ],
      "execution_count": 5,
      "outputs": [
        {
          "output_type": "stream",
          "name": "stdout",
          "text": [
            "Mean Accuracy: 0.910\n",
            "Config: {'eta0': 0.01}\n"
          ]
        }
      ]
    },
    {
      "cell_type": "code",
      "metadata": {
        "id": "R2dr3V6h3a3B",
        "colab": {
          "base_uri": "https://localhost:8080/"
        },
        "outputId": "a1451691-5c5b-4b7a-e98d-46a14dc1f659"
      },
      "source": [
        "p = Perceptron(max_iter=40, eta0=0.01, random_state=0)\n",
        "p.fit(X_train, Y_train)"
      ],
      "execution_count": 6,
      "outputs": [
        {
          "output_type": "execute_result",
          "data": {
            "text/plain": [
              "Perceptron(alpha=0.0001, class_weight=None, early_stopping=False, eta0=0.01,\n",
              "           fit_intercept=True, max_iter=40, n_iter_no_change=5, n_jobs=None,\n",
              "           penalty=None, random_state=0, shuffle=True, tol=0.001,\n",
              "           validation_fraction=0.1, verbose=0, warm_start=False)"
            ]
          },
          "metadata": {},
          "execution_count": 6
        }
      ]
    },
    {
      "cell_type": "code",
      "metadata": {
        "id": "DgW440wg3a3D"
      },
      "source": [
        "y_pred = p.predict(X_test)"
      ],
      "execution_count": 7,
      "outputs": []
    },
    {
      "cell_type": "code",
      "metadata": {
        "id": "lEfBW6hs3a3K",
        "colab": {
          "base_uri": "https://localhost:8080/"
        },
        "outputId": "b477007f-3b49-4526-8d54-c85bc80dd385"
      },
      "source": [
        "from sklearn.metrics import accuracy_score\n",
        "\n",
        "print('Misclassified samples: %d' % (Y_test != y_pred).sum())\n",
        "print('Accuracy: %.2f' % accuracy_score(Y_test, y_pred))"
      ],
      "execution_count": 16,
      "outputs": [
        {
          "output_type": "stream",
          "name": "stdout",
          "text": [
            "Misclassified samples: 347\n",
            "Accuracy: 0.84\n"
          ]
        }
      ]
    }
  ]
}