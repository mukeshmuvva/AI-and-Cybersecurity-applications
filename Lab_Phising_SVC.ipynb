{
  "nbformat": 4,
  "nbformat_minor": 0,
  "metadata": {
    "kernelspec": {
      "display_name": "Py35",
      "language": "python",
      "name": "py35"
    },
    "language_info": {
      "codemirror_mode": {
        "name": "ipython",
        "version": 3
      },
      "file_extension": ".py",
      "mimetype": "text/x-python",
      "name": "python",
      "nbconvert_exporter": "python",
      "pygments_lexer": "ipython3",
      "version": "3.5.4"
    },
    "colab": {
      "name": "Lab_Phising_SVC.ipynb",
      "provenance": []
    }
  },
  "cells": [
    {
      "cell_type": "code",
      "metadata": {
        "id": "zhihg4j13v41"
      },
      "source": [
        "import pandas as pd\n",
        "import numpy as np\n",
        "import matplotlib.pyplot as plt  \n",
        "from sklearn.model_selection import GridSearchCV\n",
        "from sklearn.svm import SVC\n",
        "from sklearn.model_selection import train_test_split"
      ],
      "execution_count": null,
      "outputs": []
    },
    {
      "cell_type": "code",
      "metadata": {
        "id": "lksP8dAaWdzE"
      },
      "source": [
        "#Load the data set and segragate into features and targets\n",
        "phishing_dataset = np.genfromtxt('phishing_dataset.csv', delimiter=',', dtype=np.int32)\n",
        "samples = phishing_dataset[:,:-1]\n",
        "targets = phishing_dataset[:, -1]"
      ],
      "execution_count": null,
      "outputs": []
    },
    {
      "cell_type": "code",
      "metadata": {
        "id": "x_UHfm-q3v44"
      },
      "source": [
        "#Split the data into 4:1 ration of train and test data\n",
        "X_train, X_test, Y_train, Y_test = train_test_split(\n",
        "         samples, targets, test_size=0.2, random_state=0)"
      ],
      "execution_count": null,
      "outputs": []
    },
    {
      "cell_type": "code",
      "metadata": {
        "id": "0N89i6Zm3v4_",
        "colab": {
          "base_uri": "https://localhost:8080/"
        },
        "outputId": "99a85d0a-be75-4855-f311-ddb8ee9dae4e"
      },
      "source": [
        "#Perform grid search CV for best parameters.\n",
        "param_grid = {'C': [0.1, 1, 10, 100, 1000], \n",
        "              'gamma': [1, 0.1, 0.01, 0.001, 0.0001],\n",
        "              'kernel': ['rbf','linear']} \n",
        "svc_model= SVC()\n",
        "\n",
        "svc_model_cv = GridSearchCV(svc_model, param_grid, refit = True, cv=2)\n",
        "svc_model_cv.fit(X_train,Y_train)\n",
        "\n",
        "print(\"tuned hpyerparameters :(best parameters) \",svc_model_cv.best_params_)\n",
        "print(\"accuracy :\",svc_model_cv.best_score_)\n",
        "\n"
      ],
      "execution_count": null,
      "outputs": [
        {
          "output_type": "stream",
          "name": "stdout",
          "text": [
            "tuned hpyerparameters :(best parameters)  {'C': 10, 'gamma': 0.1, 'kernel': 'rbf'}\n",
            "accuracy : 0.958955223880597\n"
          ]
        }
      ]
    },
    {
      "cell_type": "code",
      "metadata": {
        "id": "7mwC6TONbPbZ"
      },
      "source": [
        "svc_model=SVC(C=10,gamma=0.1,kernel='rbf')\n",
        "svc_model.fit(X_train, Y_train)\n",
        "\n",
        "prediction = svc_model.predict(X_test)"
      ],
      "execution_count": null,
      "outputs": []
    },
    {
      "cell_type": "code",
      "metadata": {
        "id": "HJ20UDNQ3v5E",
        "colab": {
          "base_uri": "https://localhost:8080/"
        },
        "outputId": "ff1c5802-6a66-42ac-a3de-2b17ff94e348"
      },
      "source": [
        "from sklearn.metrics import accuracy_score\n",
        "\n",
        "print('Misclassified samples: %d' % (Y_test != prediction).sum())\n",
        "print('Accuracy: %.2f' % accuracy_score(Y_test, prediction))"
      ],
      "execution_count": null,
      "outputs": [
        {
          "output_type": "stream",
          "name": "stdout",
          "text": [
            "Misclassified samples: 81\n",
            "Accuracy: 0.96\n"
          ]
        }
      ]
    }
  ]
}